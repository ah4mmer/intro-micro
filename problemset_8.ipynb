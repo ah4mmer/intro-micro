{
 "cells": [
  {
   "cell_type": "markdown",
   "metadata": {},
   "source": [
    "# SOLUTION PROBLEM SET 8\n",
    "Ökonomische Entscheidungen und Märkte IK <br>\n",
    "Alexander Ahammer  <br>\n",
    "alexander-ahammer.com  <br>\n",
    "Date: 2020/6/14"
   ]
  },
  {
   "cell_type": "markdown",
   "metadata": {},
   "source": [
    "## Exercise 1"
   ]
  },
  {
   "cell_type": "code",
   "execution_count": 1,
   "metadata": {},
   "outputs": [
    {
     "data": {
      "image/png": "[encoded data removed]",
      "text/plain": [
       "Graphics object consisting of 1 graphics primitive"
      ]
     },
     "execution_count": 1,
     "metadata": {},
     "output_type": "execute_result"
    }
   ],
   "source": [
    "var('q')\n",
    "\n",
    "# define cost function\n",
    "C(q) = 2*q^2 + 8*q + 200\n",
    "\n",
    "# plot cost function\n",
    "p_C = plot(C(q), (q, 0, 50), ymin=0, ymax=1000, axes_labels=['$q$', '$C$'])\n",
    "p_C"
   ]
  },
  {
   "cell_type": "markdown",
   "metadata": {},
   "source": [
    "### (a) Cost components"
   ]
  },
  {
   "cell_type": "code",
   "execution_count": null,
   "metadata": {},
   "outputs": [],
   "source": [
    "# fix cost\n",
    "FC = 200\n",
    "print(\"FC =\", FC)\n",
    "\n",
    "# variable cost\n",
    "VC(q) = 2*q^2 + 8*q\n",
    "print(\"VC(q) =\", VC(q))\n",
    "\n",
    "# average fix cost\n",
    "AFC(q) = FC/q\n",
    "print(\"AFC(q) =\", AFC(q))\n",
    "\n",
    "# average variable cost\n",
    "AVC(q) = VC(q)/q\n",
    "print(\"AVC(q) =\", AVC(q).full_simplify())\n",
    "\n",
    "# average cost\n",
    "AC(q) = C(q)/q\n",
    "print(\"AC(q) =\", AC(q))\n",
    "\n",
    "# marginal cost\n",
    "MC(q) = C(q).diff(q)\n",
    "print(\"MC(q) =\", MC(q))"
   ]
  },
  {
   "cell_type": "code",
   "execution_count": null,
   "metadata": {},
   "outputs": [],
   "source": [
    "# plot MC function\n",
    "p_MC = plot(MC(q), (q, 0, 50), ymin=0, ymax=1000, color='red', axes_labels=['$q$', '$C$'])\n",
    "p_C + p_MC"
   ]
  },
  {
   "cell_type": "markdown",
   "metadata": {},
   "source": [
    "### (b) AC = MC?"
   ]
  },
  {
   "cell_type": "code",
   "execution_count": null,
   "metadata": {},
   "outputs": [],
   "source": [
    "# where are AC = MC?\n",
    "solve(AC(q)==MC(q), q)[1].rhs()\n",
    "p_MC = plot(MC(q), (q, 0, 50), ymin=0, ymax=200, color='red', axes_labels=['$q$', '$C$'])\n",
    "p_AC = plot(AC(q), (q, 0, 50), ymin=0, ymax=200, color='green', axes_labels=['$q$', '$C$'])\n",
    "p_add = line([(10,0), (10,AC(10))], color='black', thickness=0.75)\n",
    "p_add += text(\"$p^{*}$\", (10, AC(10)+12), fontsize=16, color='black')\n",
    "p_MC + p_AC + p_add"
   ]
  },
  {
   "cell_type": "markdown",
   "metadata": {},
   "source": [
    "This is where profits are 0 for the firm."
   ]
  },
  {
   "cell_type": "markdown",
   "metadata": {},
   "source": [
    "### (c) Minimum AC"
   ]
  },
  {
   "cell_type": "code",
   "execution_count": null,
   "metadata": {},
   "outputs": [],
   "source": [
    "# should be 10, b/c MC intersect at minimum AC\n",
    "solve(AC(q).diff(q)==0, q)"
   ]
  },
  {
   "cell_type": "markdown",
   "metadata": {},
   "source": [
    "## Exercise II\n",
    "Here it is important to know that maximum output is where $p = MC(q)$. We don't have $MC(q)$ here, but we know that\n",
    "$$MC(q) = \\frac{\\partial C(q)}{\\partial q} = \\frac{\\partial FC}{\\partial q} + \\frac{\\partial VC(q)}{\\partial q}$$\n",
    "and since $\\partial FC/\\partial q=0$, we have\n",
    "$$MC(q) = \\frac{\\partial VC(q)}{\\partial q}$$\n",
    "which we actually do have, since $VC(q) = q\\cdot AVC(q)$"
   ]
  },
  {
   "cell_type": "code",
   "execution_count": null,
   "metadata": {},
   "outputs": [],
   "source": [
    "var('p,q')\n",
    "AVC(q) = 2 + 4*q\n",
    "p = 34\n",
    "\n",
    "# get MC(q)\n",
    "MC(q) = (AVC(q)*q).diff(q)\n",
    "print(\"MC(q) =\", MC(q))\n",
    "\n",
    "# equilibrium\n",
    "print(\"q* =\", solve(MC(q)==p, q)[0].rhs())"
   ]
  },
  {
   "cell_type": "markdown",
   "metadata": {},
   "source": [
    "## Exercise III"
   ]
  },
  {
   "cell_type": "code",
   "execution_count": null,
   "metadata": {},
   "outputs": [],
   "source": [
    "var('P,Q,p,q')"
   ]
  },
  {
   "cell_type": "markdown",
   "metadata": {},
   "source": [
    "### (a) Equilibrium"
   ]
  },
  {
   "cell_type": "code",
   "execution_count": null,
   "metadata": {},
   "outputs": [],
   "source": [
    "# curves\n",
    "S(P) = 10*P\n",
    "D(P) = 200-P^2\n",
    "\n",
    "# for the graph, we should figure out where the demand curve hits zero\n",
    "D0 = solve(D(P)==0, P)[1].rhs()\n",
    "\n",
    "# plot\n",
    "market = plot(S(P), 0, 50, ymin=0, ymax=300)\n",
    "market += plot(D(P), 0, D0)\n",
    "market"
   ]
  },
  {
   "cell_type": "code",
   "execution_count": null,
   "metadata": {},
   "outputs": [],
   "source": [
    "# equilibrium\n",
    "solve(S(P)==D(P), P)"
   ]
  },
  {
   "cell_type": "markdown",
   "metadata": {},
   "source": [
    "There are two solutions, but one of them is negative. Since we assume prices cannot be negative, $p\\in \\mathbb{R}^{+}$, only $P^*=10$ is possible."
   ]
  },
  {
   "cell_type": "code",
   "execution_count": null,
   "metadata": {},
   "outputs": [],
   "source": [
    "# equilibrium price and quantity\n",
    "P_opt = _[1].rhs()\n",
    "Q_opt = S(P_opt)\n",
    "print(\"P* =\", P_opt, \"; Q^* =\", Q_opt)"
   ]
  },
  {
   "cell_type": "code",
   "execution_count": null,
   "metadata": {},
   "outputs": [],
   "source": [
    "# plot again\n",
    "eq = plot(Q_opt, 0, 10, color='black', linestyle=':', axes_labels=['$P$', '$Q$'])\n",
    "eq += line([(10,0), (10,Q_opt)], color='black', linestyle=':')\n",
    "eq += point((P_opt, Q_opt), size=30, color='black')\n",
    "eq + market"
   ]
  },
  {
   "cell_type": "markdown",
   "metadata": {},
   "source": [
    "### (b) SIngle farmer"
   ]
  },
  {
   "cell_type": "code",
   "execution_count": null,
   "metadata": {},
   "outputs": [],
   "source": [
    "# cost function\n",
    "C(q) = 120 + q^2\n",
    "\n",
    "# profit function\n",
    "pi(q) = P_opt*q - C(q)\n",
    "\n",
    "# calculate equilibrium\n",
    "solve(pi(q).diff(q)==0, q)"
   ]
  },
  {
   "cell_type": "code",
   "execution_count": null,
   "metadata": {},
   "outputs": [],
   "source": [
    "q_opt = _[0].rhs()\n",
    "print(\"q* =\", q_opt)\n",
    "\n",
    "pi_opt = pi(q_opt)\n",
    "print(\"pi* =\", pi_opt)"
   ]
  },
  {
   "cell_type": "code",
   "execution_count": null,
   "metadata": {},
   "outputs": [],
   "source": [
    "plot(pi(q), -20, 50, ymax=0, axes_labels=['$q$', '$\\\\pi$'], color='purple', thickness=2)"
   ]
  },
  {
   "cell_type": "markdown",
   "metadata": {},
   "source": [
    "### (c) How many farmers in the market?"
   ]
  },
  {
   "cell_type": "code",
   "execution_count": null,
   "metadata": {},
   "outputs": [],
   "source": [
    "N = Q_opt / q_opt\n",
    "print(\"N =\", N)"
   ]
  }
 ],
 "metadata": {
  "kernelspec": {
   "display_name": "SageMath 9.0",
   "language": "sage",
   "name": "sagemath"
  },
  "language_info": {
   "codemirror_mode": {
    "name": "ipython",
    "version": 3
   },
   "file_extension": ".py",
   "mimetype": "text/x-python",
   "name": "python",
   "nbconvert_exporter": "python",
   "pygments_lexer": "ipython3",
   "version": "3.7.3"
  }
 },
 "nbformat": 4,
 "nbformat_minor": 2
}
